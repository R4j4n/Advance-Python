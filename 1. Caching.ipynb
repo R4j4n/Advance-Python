{
 "cells": [
  {
   "cell_type": "code",
   "execution_count": 1,
   "metadata": {},
   "outputs": [
    {
     "name": "stdout",
     "output_type": "stream",
     "text": [
      "Python Version: 3.11.2 (main, Mar 27 2023, 23:42:44) [GCC 11.2.0]\n"
     ]
    }
   ],
   "source": [
    "import sys\n",
    "import random\n",
    "\n",
    "print(f\"Python Version: {sys.version}\")"
   ]
  },
  {
   "cell_type": "code",
   "execution_count": 2,
   "metadata": {},
   "outputs": [],
   "source": [
    "#Python decorator to compute and print the execution time of a function:\n",
    "import time\n",
    "def calculate_time(func):\n",
    "    def wrapper(*args, **kwargs):\n",
    "        start_time = time.time()\n",
    "        result = func(*args, **kwargs)\n",
    "        end_time = time.time()\n",
    "\n",
    "        execution_time_ms = (end_time - start_time)\n",
    "\n",
    "        print(f\"{func.__name__} executed in {execution_time_ms} seconds.\")\n",
    "        return result\n",
    "    return wrapper"
   ]
  },
  {
   "cell_type": "code",
   "execution_count": 3,
   "metadata": {},
   "outputs": [],
   "source": [
    "\n",
    "\n",
    "\n",
    "@calculate_time\n",
    "\n",
    "def calculate_pi(num_points):\n",
    "    \"\"\"This script calculates the value of pi using the Monte Carlo method. \n",
    "    This method involves randomly selecting points within a 1 x 1 square and determining the ratio that fall within a quarter-circle.\n",
    "    \"\"\"\n",
    "    points_inside_circle = 0\n",
    "\n",
    "    for _ in range(num_points):\n",
    "        x = random.uniform(0, 1)\n",
    "        y = random.uniform(0, 1)\n",
    "\n",
    "        distance_from_origin = x**2 + y**2\n",
    "        if distance_from_origin <= 1:\n",
    "            points_inside_circle += 1\n",
    "\n",
    "    return 4 * points_inside_circle / num_points"
   ]
  },
  {
   "cell_type": "code",
   "execution_count": 4,
   "metadata": {},
   "outputs": [
    {
     "name": "stdout",
     "output_type": "stream",
     "text": [
      "calculate_pi executed in 5.038477182388306 seconds.\n"
     ]
    }
   ],
   "source": [
    "num_points = 10**7\n",
    "pi_estimate = calculate_pi(num_points)\n"
   ]
  },
  {
   "attachments": {},
   "cell_type": "markdown",
   "metadata": {},
   "source": [
    "## Caching\n",
    "Cahching the **calculate_pi** method.\n",
    "we use achieve this using ```python functools```\n",
    "\n",
    "```from functools import cache, lru_cache```\n",
    "\n",
    "```lru_cache()``` is a decorator that helps in reducing function execution for the same inputs using the memoization technique.\n",
    "\n",
    "The wrapped method has a ```cache_info()``` function that produces a named tuple containing hits, misses, maxsize, and currsize to assess the cache’s efficacy and optimize the maxsize parameter."
   ]
  },
  {
   "cell_type": "code",
   "execution_count": 5,
   "metadata": {},
   "outputs": [],
   "source": [
    "from functools import cache, lru_cache\n",
    "\n",
    "@lru_cache\n",
    "@calculate_time\n",
    "def calculate_pi(num_points):\n",
    "    \"\"\"This script calculates the value of pi using the Monte Carlo method. \n",
    "    This method involves randomly selecting points within a 1 x 1 square and determining the ratio that fall within a quarter-circle.\n",
    "    \"\"\"\n",
    "    points_inside_circle = 0\n",
    "\n",
    "    for _ in range(num_points):\n",
    "        x = random.uniform(0, 1)\n",
    "        y = random.uniform(0, 1)\n",
    "\n",
    "        distance_from_origin = x**2 + y**2\n",
    "        if distance_from_origin <= 1:\n",
    "            points_inside_circle += 1\n",
    "\n",
    "    return 4 * points_inside_circle / num_points\n"
   ]
  },
  {
   "cell_type": "code",
   "execution_count": 6,
   "metadata": {},
   "outputs": [
    {
     "name": "stdout",
     "output_type": "stream",
     "text": [
      "calculate_pi executed in 5.22046422958374 seconds.\n",
      "3.1413292\n"
     ]
    }
   ],
   "source": [
    "num_points = 10**7\n",
    "pi_estimate = calculate_pi(num_points)\n",
    "print(pi_estimate)"
   ]
  },
  {
   "attachments": {},
   "cell_type": "markdown",
   "metadata": {},
   "source": [
    "Now, after chaching, lets see the execution time."
   ]
  },
  {
   "cell_type": "code",
   "execution_count": 7,
   "metadata": {},
   "outputs": [
    {
     "name": "stdout",
     "output_type": "stream",
     "text": [
      "3.1413292\n"
     ]
    }
   ],
   "source": [
    "num_points = 10**7\n",
    "pi_estimate = calculate_pi(num_points)\n",
    "print(pi_estimate)"
   ]
  },
  {
   "attachments": {},
   "cell_type": "markdown",
   "metadata": {},
   "source": [
    "The decorator has two parameters:\n",
    "\n",
    "```@lru_cache(maxsize=<max_size>, typed=True/False)```\n",
    "\n",
    "```maxsize```: This parameter indicates the maximum number of entries the cache can store before evicting old items. If it’s set to none, the cache will grow indefinitely, and no entries will ever be evicted. This will lead to problems if many entries are cached.\n",
    "\n",
    "```typed```: This is a Boolean parameter. When set to True, it indicates the cache will have different entries for different types of function arguments."
   ]
  },
  {
   "attachments": {},
   "cell_type": "markdown",
   "metadata": {},
   "source": [
    "Understanding ```max_size``` : "
   ]
  },
  {
   "cell_type": "code",
   "execution_count": 8,
   "metadata": {},
   "outputs": [],
   "source": [
    "@lru_cache(maxsize=2,typed=True)\n",
    "@calculate_time\n",
    "def calculate_pi(num_points):\n",
    "    points_inside_circle = 0\n",
    "\n",
    "    if isinstance(num_points,int):\n",
    "        for _ in range(num_points):\n",
    "            x = random.uniform(0, 1)\n",
    "            y = random.uniform(0, 1)\n",
    "\n",
    "            distance_from_origin = x**2 + y**2\n",
    "            if distance_from_origin <= 1:\n",
    "                points_inside_circle += 1\n",
    "\n",
    "    else:\n",
    "        for _ in range(int(num_points)):\n",
    "            x = random.uniform(0, 1)\n",
    "            y = random.uniform(0, 1)\n",
    "\n",
    "            distance_from_origin = x**2 + y**2\n",
    "            if distance_from_origin <= 1:\n",
    "                points_inside_circle += 1\n",
    "        \n",
    "\n",
    "    return 4 * points_inside_circle / num_points"
   ]
  },
  {
   "attachments": {},
   "cell_type": "markdown",
   "metadata": {},
   "source": [
    "caching the 3 inputs "
   ]
  },
  {
   "cell_type": "code",
   "execution_count": 9,
   "metadata": {},
   "outputs": [
    {
     "name": "stdout",
     "output_type": "stream",
     "text": [
      "calculate_pi executed in 6.222724914550781e-05 seconds.\n",
      "3.24\n"
     ]
    }
   ],
   "source": [
    "\n",
    "num_points = 10**2\n",
    "pi_estimate = calculate_pi(num_points)\n",
    "print(pi_estimate)"
   ]
  },
  {
   "cell_type": "code",
   "execution_count": 10,
   "metadata": {},
   "outputs": [
    {
     "name": "stdout",
     "output_type": "stream",
     "text": [
      "calculate_pi executed in 0.00051116943359375 seconds.\n",
      "3.128\n"
     ]
    }
   ],
   "source": [
    "num_points = 10**3\n",
    "pi_estimate = calculate_pi(num_points)\n",
    "print(pi_estimate)"
   ]
  },
  {
   "cell_type": "code",
   "execution_count": 11,
   "metadata": {},
   "outputs": [
    {
     "name": "stdout",
     "output_type": "stream",
     "text": [
      "calculate_pi executed in 0.006087779998779297 seconds.\n",
      "3.1748\n"
     ]
    }
   ],
   "source": [
    "num_points = 10**4\n",
    "pi_estimate = calculate_pi(num_points)\n",
    "print(pi_estimate)"
   ]
  },
  {
   "attachments": {},
   "cell_type": "markdown",
   "metadata": {},
   "source": [
    "we set ```maxsize=2```. so ```10**3```, ```10**4``` will be cached but ```10**2``` will not be."
   ]
  },
  {
   "cell_type": "code",
   "execution_count": 12,
   "metadata": {},
   "outputs": [
    {
     "name": "stdout",
     "output_type": "stream",
     "text": [
      "3.1748\n"
     ]
    }
   ],
   "source": [
    "num_points = 10**4\n",
    "pi_estimate = calculate_pi(num_points)\n",
    "print(pi_estimate)"
   ]
  },
  {
   "cell_type": "code",
   "execution_count": 13,
   "metadata": {},
   "outputs": [
    {
     "name": "stdout",
     "output_type": "stream",
     "text": [
      "calculate_pi executed in 5.8650970458984375e-05 seconds.\n",
      "3.4\n"
     ]
    }
   ],
   "source": [
    "num_points = 10**2\n",
    "pi_estimate = calculate_pi(num_points)\n",
    "print(pi_estimate)"
   ]
  },
  {
   "attachments": {},
   "cell_type": "markdown",
   "metadata": {},
   "source": [
    "Understanding ```max_size``` : "
   ]
  },
  {
   "cell_type": "code",
   "execution_count": 14,
   "metadata": {},
   "outputs": [
    {
     "name": "stdout",
     "output_type": "stream",
     "text": [
      "calculate_pi executed in 0.05013084411621094 seconds.\n",
      "3.14432\n"
     ]
    }
   ],
   "source": [
    "# type int\n",
    "num_points = 10**5\n",
    "pi_estimate = calculate_pi(num_points)\n",
    "print(pi_estimate)"
   ]
  },
  {
   "cell_type": "code",
   "execution_count": 18,
   "metadata": {},
   "outputs": [
    {
     "name": "stdout",
     "output_type": "stream",
     "text": [
      "calculate_pi executed in 0.11378240585327148 seconds.\n",
      "3.15352\n"
     ]
    }
   ],
   "source": [
    "# type Float\n",
    "num_points = 10**5.0\n",
    "pi_estimate = calculate_pi(num_points)\n",
    "print(pi_estimate)"
   ]
  },
  {
   "attachments": {},
   "cell_type": "markdown",
   "metadata": {},
   "source": [
    "Here, for the same input, if the type changes, it wont be cached."
   ]
  }
 ],
 "metadata": {
  "kernelspec": {
   "display_name": "Python 3",
   "language": "python",
   "name": "python3"
  },
  "language_info": {
   "codemirror_mode": {
    "name": "ipython",
    "version": 3
   },
   "file_extension": ".py",
   "mimetype": "text/x-python",
   "name": "python",
   "nbconvert_exporter": "python",
   "pygments_lexer": "ipython3",
   "version": "3.11.2"
  },
  "orig_nbformat": 4
 },
 "nbformat": 4,
 "nbformat_minor": 2
}
