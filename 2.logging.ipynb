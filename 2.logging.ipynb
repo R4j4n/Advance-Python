{
 "cells": [
  {
   "attachments": {},
   "cell_type": "markdown",
   "metadata": {},
   "source": [
    "**Logging Basics**"
   ]
  },
  {
   "cell_type": "code",
   "execution_count": 1,
   "metadata": {},
   "outputs": [],
   "source": [
    "\n",
    "import logging\n",
    "from logging import basicConfig\n",
    "\n",
    "# config logging\n",
    "basicConfig(level=logging.INFO, filename=\"files/logs/log.log\", filemode=\"w\")\n",
    "# if we set level to warning, it ill log after the warninig level\n",
    "\n",
    "# Log levels\n",
    "\"\"\"\n",
    "logging.debug(\"Hello\")\n",
    "logging.info(\"Hello\")\n",
    "logging.warning(\"Hello\")\n",
    "logging.error(\"Hello\")\n",
    "logging.critical(\"Hello\")\n",
    "\"\"\"\n",
    "logging.debug(\"Hello\")\n",
    "logging.info(\"Hello\")\n",
    "logging.warning(\"Hello\")\n",
    "logging.error(\"Hello\")\n",
    "logging.critical(\"Hello\")\n"
   ]
  },
  {
   "attachments": {},
   "cell_type": "markdown",
   "metadata": {},
   "source": [
    "**Formatted Logging**"
   ]
  },
  {
   "cell_type": "code",
   "execution_count": 3,
   "metadata": {},
   "outputs": [],
   "source": [
    "import logging \n",
    "from logging import basicConfig\n",
    "# Chaning the format of log \n",
    "basicConfig(level=logging.INFO,\n",
    "            filename=\"files/logs/log_formatted.log\",\n",
    "            filemode='w',\n",
    "            format=\"%(asctime)s - %(levelname)s - %(message)s\")\n",
    "\n",
    "logging.debug(\"Hello\")\n",
    "logging.info(\"Hello\")\n",
    "logging.warning(\"Hello\")\n",
    "logging.error(\"Hello\")\n",
    "logging.critical(\"Hello\")"
   ]
  },
  {
   "attachments": {},
   "cell_type": "markdown",
   "metadata": {},
   "source": [
    "**Custom logging**"
   ]
  },
  {
   "cell_type": "code",
   "execution_count": 1,
   "metadata": {},
   "outputs": [],
   "source": [
    "# Custom logging \n",
    "import logging \n",
    "\n",
    "from logging import basicConfig\n",
    "# Chaning the format of log \n",
    "basicConfig(level=logging.INFO,\n",
    "            filename=\"files/logs/log_formatted.log\",\n",
    "            filemode='w',\n",
    "            format=\"%(asctime)s - %(levelname)s - %(message)s\")\n",
    "\n",
    "\n",
    "# custom logger \n",
    "logger = logging.getLogger(__name__ )\n",
    "\n",
    "# handler for our custom logger\n",
    "handler = logging.FileHandler(\"files/logs/custom.log\")\n",
    "\n",
    "# formatter for handler \n",
    "formatter = logging.Formatter(\"%(asctime)s - %(name)s - %(levelname)s - %(message)s\")\n",
    "handler.setFormatter(formatter)\n",
    "\n",
    "# add handler to the loger \n",
    "logger.addHandler(handler)\n",
    "\n",
    "\n",
    "logger.info(\"Hello\")\n",
    "logger.warning(\"Hello\")\n",
    "logger.error(\"Hello\")\n",
    "logger.critical(\"Hello\")"
   ]
  },
  {
   "cell_type": "code",
   "execution_count": null,
   "metadata": {},
   "outputs": [],
   "source": []
  }
 ],
 "metadata": {
  "kernelspec": {
   "display_name": "chat_gpt",
   "language": "python",
   "name": "python3"
  },
  "language_info": {
   "codemirror_mode": {
    "name": "ipython",
    "version": 3
   },
   "file_extension": ".py",
   "mimetype": "text/x-python",
   "name": "python",
   "nbconvert_exporter": "python",
   "pygments_lexer": "ipython3",
   "version": "3.11.2"
  },
  "orig_nbformat": 4
 },
 "nbformat": 4,
 "nbformat_minor": 2
}
